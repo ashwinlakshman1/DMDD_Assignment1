{
 "cells": [
  {
   "cell_type": "code",
   "execution_count": 3,
   "outputs": [
    {
     "data": {
      "text/plain": "     IS_CRIME  IS_TRAFFIC\n0           1           0\n1           1           0\n2           1           0\n3           1           0\n4           1           0\n..        ...         ...\n294         1           0\n295         1           0\n296         1           0\n297         1           0\n298         1           0\n\n[299 rows x 2 columns]",
      "text/html": "<div>\n<style scoped>\n    .dataframe tbody tr th:only-of-type {\n        vertical-align: middle;\n    }\n\n    .dataframe tbody tr th {\n        vertical-align: top;\n    }\n\n    .dataframe thead th {\n        text-align: right;\n    }\n</style>\n<table border=\"1\" class=\"dataframe\">\n  <thead>\n    <tr style=\"text-align: right;\">\n      <th></th>\n      <th>IS_CRIME</th>\n      <th>IS_TRAFFIC</th>\n    </tr>\n  </thead>\n  <tbody>\n    <tr>\n      <th>0</th>\n      <td>1</td>\n      <td>0</td>\n    </tr>\n    <tr>\n      <th>1</th>\n      <td>1</td>\n      <td>0</td>\n    </tr>\n    <tr>\n      <th>2</th>\n      <td>1</td>\n      <td>0</td>\n    </tr>\n    <tr>\n      <th>3</th>\n      <td>1</td>\n      <td>0</td>\n    </tr>\n    <tr>\n      <th>4</th>\n      <td>1</td>\n      <td>0</td>\n    </tr>\n    <tr>\n      <th>...</th>\n      <td>...</td>\n      <td>...</td>\n    </tr>\n    <tr>\n      <th>294</th>\n      <td>1</td>\n      <td>0</td>\n    </tr>\n    <tr>\n      <th>295</th>\n      <td>1</td>\n      <td>0</td>\n    </tr>\n    <tr>\n      <th>296</th>\n      <td>1</td>\n      <td>0</td>\n    </tr>\n    <tr>\n      <th>297</th>\n      <td>1</td>\n      <td>0</td>\n    </tr>\n    <tr>\n      <th>298</th>\n      <td>1</td>\n      <td>0</td>\n    </tr>\n  </tbody>\n</table>\n<p>299 rows × 2 columns</p>\n</div>"
     },
     "metadata": {},
     "output_type": "execute_result",
     "execution_count": 3
    }
   ],
   "source": [
    "#TASK 1:   READING DOWNLOADED CSV FILE AND STORING AS A DATAFRAME.\n",
    "import kaggle\n",
    "import pandas as pd\n",
    "import re\n",
    "offense_description = pd.read_csv(\"C:/Users/ashwi/Downloads/denver-crime-data/offense_codes.csv\",encoding = \"ISO-8859-1\")\n",
    "extracted= offense_description[['IS_CRIME','IS_TRAFFIC']].copy()\n",
    "extracted"
   ],
   "metadata": {
    "collapsed": false,
    "pycharm": {
     "name": "#%%\n",
     "is_executing": false
    }
   }
  },
  {
   "cell_type": "code",
   "execution_count": 11,
   "outputs": [
    {
     "data": {
      "text/plain": "IS_CRIME      0\nIS_TRAFFIC    0\ndtype: int64"
     },
     "metadata": {},
     "output_type": "execute_result",
     "execution_count": 11
    }
   ],
   "source": [
    "#AUDITING THE RESULTS\n",
    "\n",
    "extracted.isnull().sum()"
   ],
   "metadata": {
    "collapsed": false,
    "pycharm": {
     "name": "#%%\n",
     "is_executing": false
    }
   }
  },
  {
   "cell_type": "code",
   "execution_count": 150,
   "outputs": [
    {
     "data": {
      "text/plain": "     off_code  offcode_ext  crime  traffic\n0    2804      1            1      0      \n1    2804      2            1      0      \n2    2901      0            1      0      \n3    2902      0            1      0      \n4    2903      0            1      0      \n..    ...     ..           ..     ..      \n294  2701      0            1      0      \n295  2799      0            1      0      \n296  2801      0            1      0      \n297  2803      0            1      0      \n298  2804      0            1      0      \n\n[299 rows x 4 columns]",
      "text/html": "<div>\n<style scoped>\n    .dataframe tbody tr th:only-of-type {\n        vertical-align: middle;\n    }\n\n    .dataframe tbody tr th {\n        vertical-align: top;\n    }\n\n    .dataframe thead th {\n        text-align: right;\n    }\n</style>\n<table border=\"1\" class=\"dataframe\">\n  <thead>\n    <tr style=\"text-align: right;\">\n      <th></th>\n      <th>off_code</th>\n      <th>offcode_ext</th>\n      <th>crime</th>\n      <th>traffic</th>\n    </tr>\n  </thead>\n  <tbody>\n    <tr>\n      <th>0</th>\n      <td>2804</td>\n      <td>1</td>\n      <td>1</td>\n      <td>0</td>\n    </tr>\n    <tr>\n      <th>1</th>\n      <td>2804</td>\n      <td>2</td>\n      <td>1</td>\n      <td>0</td>\n    </tr>\n    <tr>\n      <th>2</th>\n      <td>2901</td>\n      <td>0</td>\n      <td>1</td>\n      <td>0</td>\n    </tr>\n    <tr>\n      <th>3</th>\n      <td>2902</td>\n      <td>0</td>\n      <td>1</td>\n      <td>0</td>\n    </tr>\n    <tr>\n      <th>4</th>\n      <td>2903</td>\n      <td>0</td>\n      <td>1</td>\n      <td>0</td>\n    </tr>\n    <tr>\n      <th>...</th>\n      <td>...</td>\n      <td>...</td>\n      <td>...</td>\n      <td>...</td>\n    </tr>\n    <tr>\n      <th>294</th>\n      <td>2701</td>\n      <td>0</td>\n      <td>1</td>\n      <td>0</td>\n    </tr>\n    <tr>\n      <th>295</th>\n      <td>2799</td>\n      <td>0</td>\n      <td>1</td>\n      <td>0</td>\n    </tr>\n    <tr>\n      <th>296</th>\n      <td>2801</td>\n      <td>0</td>\n      <td>1</td>\n      <td>0</td>\n    </tr>\n    <tr>\n      <th>297</th>\n      <td>2803</td>\n      <td>0</td>\n      <td>1</td>\n      <td>0</td>\n    </tr>\n    <tr>\n      <th>298</th>\n      <td>2804</td>\n      <td>0</td>\n      <td>1</td>\n      <td>0</td>\n    </tr>\n  </tbody>\n</table>\n<p>299 rows × 4 columns</p>\n</div>"
     },
     "metadata": {},
     "output_type": "execute_result",
     "execution_count": 150
    }
   ],
   "source": [
    "\n",
    "#TASK 2 : MANIPULATE DATA USING WEB API\n",
    "\n",
    "\n",
    "akg = kaggle.KaggleApi()\n",
    "akg.authenticate()\n",
    "adatasetloc = 'paultimothymooney/denver-crime-data'\n",
    "adataset = akg.dataset_view(adatasetloc)\n",
    "adataset.files\n",
    "\n",
    "akg.dataset_download_cli(adatasetloc, unzip=True, force=True)\n",
    "\n",
    "\n",
    "myds = pd.read_csv('offense_codes.csv', header=0, names=['off_code','offcode_ext','offtype_id','offtype_name','offcategory_id','offcategory_name','crime','traffic'],sep=',',engine='c')\n",
    "\n",
    "\n",
    "newds=myds[['off_code','offcode_ext']].copy()"
   ],
   "metadata": {
    "collapsed": false,
    "pycharm": {
     "name": "#%%\n",
     "is_executing": false
    }
   }
  },
  {
   "cell_type": "code",
   "execution_count": 12,
   "outputs": [
    {
     "data": {
      "text/plain": "     off_code  offcode_ext\n0    2804      1          \n1    2804      2          \n2    2901      0          \n3    2902      0          \n4    2903      0          \n..    ...     ..          \n294  2701      0          \n295  2799      0          \n296  2801      0          \n297  2803      0          \n298  2804      0          \n\n[299 rows x 2 columns]",
      "text/html": "<div>\n<style scoped>\n    .dataframe tbody tr th:only-of-type {\n        vertical-align: middle;\n    }\n\n    .dataframe tbody tr th {\n        vertical-align: top;\n    }\n\n    .dataframe thead th {\n        text-align: right;\n    }\n</style>\n<table border=\"1\" class=\"dataframe\">\n  <thead>\n    <tr style=\"text-align: right;\">\n      <th></th>\n      <th>off_code</th>\n      <th>offcode_ext</th>\n    </tr>\n  </thead>\n  <tbody>\n    <tr>\n      <th>0</th>\n      <td>2804</td>\n      <td>1</td>\n    </tr>\n    <tr>\n      <th>1</th>\n      <td>2804</td>\n      <td>2</td>\n    </tr>\n    <tr>\n      <th>2</th>\n      <td>2901</td>\n      <td>0</td>\n    </tr>\n    <tr>\n      <th>3</th>\n      <td>2902</td>\n      <td>0</td>\n    </tr>\n    <tr>\n      <th>4</th>\n      <td>2903</td>\n      <td>0</td>\n    </tr>\n    <tr>\n      <th>...</th>\n      <td>...</td>\n      <td>...</td>\n    </tr>\n    <tr>\n      <th>294</th>\n      <td>2701</td>\n      <td>0</td>\n    </tr>\n    <tr>\n      <th>295</th>\n      <td>2799</td>\n      <td>0</td>\n    </tr>\n    <tr>\n      <th>296</th>\n      <td>2801</td>\n      <td>0</td>\n    </tr>\n    <tr>\n      <th>297</th>\n      <td>2803</td>\n      <td>0</td>\n    </tr>\n    <tr>\n      <th>298</th>\n      <td>2804</td>\n      <td>0</td>\n    </tr>\n  </tbody>\n</table>\n<p>299 rows × 2 columns</p>\n</div>"
     },
     "metadata": {},
     "output_type": "execute_result",
     "execution_count": 12
    }
   ],
   "source": [
    "newds"
   ],
   "metadata": {
    "collapsed": false,
    "pycharm": {
     "name": "#%%\n",
     "is_executing": false
    }
   }
  },
  {
   "cell_type": "code",
   "execution_count": 9,
   "outputs": [
    {
     "data": {
      "text/plain": "off_code       0\noffcode_ext    0\ndtype: int64"
     },
     "metadata": {},
     "output_type": "execute_result",
     "execution_count": 9
    }
   ],
   "source": [
    "\n",
    "newds.describe()\n",
    "\n"
   ],
   "metadata": {
    "collapsed": false,
    "pycharm": {
     "name": "#%%\n",
     "is_executing": false
    }
   }
  },
  {
   "cell_type": "code",
   "execution_count": null,
   "outputs": [],
   "source": [
    "#AUDITING THE RESULTS\n",
    "\n",
    "newds.isnull().sum()"
   ],
   "metadata": {
    "collapsed": false,
    "pycharm": {
     "name": "#%%\n"
    }
   }
  },
  {
   "cell_type": "code",
   "execution_count": 5,
   "outputs": [
    {
     "data": {
      "text/plain": "bs4.BeautifulSoup"
     },
     "metadata": {},
     "output_type": "execute_result",
     "execution_count": 5
    }
   ],
   "source": [
    "\n",
    "#TASK 3: WEB SCRAPING USING BEAUTIFUL SOUP\n",
    "\n"
   ],
   "metadata": {
    "collapsed": false,
    "pycharm": {
     "name": "#%%\n",
     "is_executing": false
    }
   }
  },
  {
   "cell_type": "code",
   "execution_count": 6,
   "outputs": [
    {
     "name": "stdout",
     "text": [
      "['stolen-property-possession', 'Possession of stolen property', 'all-other-crimes', 'All Other Crimes', 'fraud-possess-financial-device', 'Possession of a financial device', 'all-other-crimes', 'All Other Crimes', 'damaged-prop-bus', 'Damaged business property', 'criminal-mischief-private', 'Criminal mischief to private property', 'criminal-mischief-public', 'Criminal mischief to public property', 'criminal-mischief-other', 'Criminal mischief - other', 'criminal-mischief-mtr-veh', 'Criminal mischief to a motor vehicle', 'criminal-mischief-graffiti', 'Criminal mischief - graffiti', 'drug-hallucinogen-mfr', 'Manufacture of a hallucinogenic drug', 'drug-hallucinogen-sell', 'Selling a hallucinogenic drug', 'drug-hallucinogen-possess', 'Possession of a hallucinogenic drug', 'drug-heroin-possess', 'Possession of heroin', 'drug-opium-or-deriv-sell', 'Selling opium or an opium derivative', 'drug-opium-or-deriv-possess', 'Possession of opium or an opium derivative', 'drug-cocaine-sell', 'drug-cocaine-possess', 'Possession of cocaine', 'drug-synth-narcotic-sell', 'Selling a synthetic narcotic drug', 'drug-synth-narcotic-possess', 'Possession of a synthetic narcotic drug', 'drug-poss-paraphernalia', 'Possession of drug paraphernalia', 'drug-marijuana-sell', 'Selling marijuana', 'drug-marijuana-possess', 'Possession of marijuana', 'drug-marijuana-cultivation', 'Cultivation of marijuana', 'drug-methamphetamine-mfr', 'Manufacture of methampetamine', 'drug-methampetamine-sell', 'Selling methampetamine', 'drug-methampetamine-possess', 'Possession of methampetamine', 'drug-barbiturate-mfr', 'Manufacture of a barbiturate', 'drug-barbiturate-sell', 'Selling a barbiturate', 'drug-barbiturate-possess', 'Possession of a barbiturate', 'drug-pcs-other-drug', 'Other dangerous drugs - PCS', 'drug-make-sell-other-drug', 'Manufacture or sell other dangerous drugs', 'sex-aslt-fondle-adult-victim', 'Fondling of an adult', 'indecent-exposure', 'Indecent exposure', 'other-crimes-against-persons', 'Other Crimes Against Persons', 'sex-off-incest-with-adult', 'Incest with an adult', 'other-crimes-against-persons', 'Other Crimes Against Persons', 'window-peeping', 'Window Peeping', 'other-crimes-against-persons', 'Other Crimes Against Persons', 'sex-off-fail-to-register', 'Failure to register as a sex offender', 'all-other-crimes', 'All Other Crimes', 'sex-off-registration-viol', 'Sex offender registration violation', 'all-other-crimes', 'All Other Crimes', 'indecent-exposure-to-adult', 'Indecent exposure to an adult', 'other-crimes-against-persons', 'Other Crimes Against Persons', 'Sex offense - other', 'other-crimes-against-persons', 'Other Crimes Against Persons', 'obscene-material-possess', 'Possession of obscene material', 'other-crimes-against-persons', 'Other Crimes Against Persons', 'obscene-material-mfr', 'Manufacture of obscene material', 'other-crimes-against-persons', 'Other Crimes Against Persons', 'other-obscenity-crime', 'Other obscenity crime', 'other-crimes-against-persons', 'Other Crimes Against Persons', 'all-other-crimes', 'All Other Crimes', 'gambling-card-game-operating', 'Operating a gambling card game', 'all-other-crimes', 'All Other Crimes', 'gambling-dice-game-operating', 'Operating a gambling dice game', 'all-other-crimes', 'All Other Crimes', 'gambling-possess-gamb-device', 'Possession of a gambling device', 'all-other-crimes', 'All Other Crimes', 'gambling-device', 'Running a gambling operation', 'all-other-crimes', 'All Other Crimes', 'gambling-lottery-operating', 'Running an illegal lottery', 'all-other-crimes', 'All Other Crimes', 'gambling-sports-tampering', 'Tampering with sports', 'all-other-crimes', 'All Other Crimes', 'gambling-betting-wagering', 'Gambling - betting or wagering', 'white-collar-crime', 'White Collar Crime', 'gambling-gaming-operation', 'Gambling - gaming operation', 'all-other-crimes', 'All Other Crimes', 'all-other-crimes', 'All Other Crimes', 'prostitution-keep-a-house-of', 'Keeping a house of prostitution', 'prostitution-procure-for', 'Procure for prostitution (trafficking, operating a bordelo)', 'prostitution-pimping', 'Pimping for prostitution', 'prostitution-engaging-in', 'Engaging in prostitution', 'prostitution-aiding', 'Aiding the act of prostitution', 'prostituion-display-for', 'Display for prostitution', 'liquor-manufacturing', 'Manufacture of liquor', 'Illegal sale of liquor', 'liquor-possession', 'Illegal possession of liquor', 'liquor-misrepresent-age-minor', 'Liquor law violation', 'Liquor law violation - other', 'public-intoxication', 'Public intoxication', 'police-resisting-arrest', 'all-other-crimes', 'All Other Crimes', 'police-obstruct-investigation', 'Obstruction of a criminal investigation', 'all-other-crimes', 'All Other Crimes', 'police-false-information', 'Giving false information to police', 'all-other-crimes', 'All Other Crimes', 'police-making-a-false-rpt', 'Making a false report to police', 'all-other-crimes', 'All Other Crimes', 'police-refusing-aid-to', 'Refusing to aid an officer', 'all-other-crimes', 'All Other Crimes', 'failure-to-report-abuse', 'Failure to report abuse', 'all-other-crimes', 'All Other Crimes', 'police-disobey-lawful-order', 'Failure to obey a lawful order by police', 'all-other-crimes', 'All Other Crimes', 'police-interference', 'Obstructing police', 'all-other-crimes', 'All Other Crimes', 'Escape of a prisoner', 'all-other-crimes', 'All Other Crimes', 'Aiding the escape of a prisoner', 'all-other-crimes', 'All Other Crimes', 'all-other-crimes', 'All Other Crimes', 'intimidation-of-a-witness', 'Intimidation of a witness', 'all-other-crimes', 'All Other Crimes', 'obstruct-jud-court-order-vio', 'Obstructing a court order', 'all-other-crimes', 'All Other Crimes', 'all-other-crimes', 'All Other Crimes', 'probation-violation', 'Probation violation', 'all-other-crimes', 'All Other Crimes', 'failure-to-appear', 'Failure to appear', 'all-other-crimes', 'All Other Crimes', 'violation-of-restraining-order', 'Violation of a restraining order', 'all-other-crimes', 'All Other Crimes', 'violation-of-court-order', 'Violation of a court order', 'all-other-crimes', 'All Other Crimes', 'violation-of-custody-order', 'Violation of a court order', 'all-other-crimes', 'All Other Crimes', 'obstructing-govt-operation', 'Obstruction of a government operation', 'all-other-crimes', 'All Other Crimes', 'all-other-crimes', 'All Other Crimes', 'weapon-altering-serial-number', 'Altering the serial number', 'all-other-crimes', 'All Other Crimes', 'weapon-carrying-concealed', 'Carrying a concealed weapon', 'all-other-crimes', 'All Other Crimes', 'weapon-carrying-prohibited', 'Carrying a prohibited weapon', 'all-other-crimes', 'All Other Crimes', 'explosive-incendiary-dev-use', 'Using an explosive/incendiary device', 'all-other-crimes', 'All Other Crimes', 'explosives-posses', 'Possession of an explosive', 'all-other-crimes', 'All Other Crimes', 'explosive-incendiary-dev-pos', 'Possession of an explosive/incendiary device', 'all-other-crimes', 'All Other Crimes', 'weapon-poss-illegal-dangerous', 'Possession of an illegal/dangerous weapon', 'all-other-crimes', 'All Other Crimes', 'weapon-by-prev-offender-powpo', 'Possession of a weapon - POWPO', 'all-other-crimes', 'All Other Crimes', 'weapon-unlawful-discharge-of', 'Unlawful discharge of a weapon', 'all-other-crimes', 'All Other Crimes', 'weapon-flourishing', 'Flourishing of a weapon', 'all-other-crimes', 'All Other Crimes', 'weapon-unlawful-sale', 'Unlawful sale of a weapon', 'all-other-crimes', 'All Other Crimes', 'all-other-crimes', 'All Other Crimes', 'weapon-other-viol', 'all-other-crimes', 'All Other Crimes', 'Engaging in  a riot', 'police-interference', 'Police Interference', 'all-other-crimes', 'All Other Crimes', 'riot-unlawful-assembly', 'Unlawful assembly', 'all-other-crimes', 'All Other Crimes', 'Harassment - DV', 'harassment-obscene', 'Obscene harassment', 'harassment-sexual-in-nature', 'Harassment - sexual in nature', 'pub-peace-desecrate-symb', 'Desecrating the flag', 'all-other-crimes', 'All Other Crimes', 'all-other-crimes', 'All Other Crimes', 'disturbing-the-peace', 'Disturbing the peace', 'public-peace-vagrancy', 'public-peace-other', 'Public  peace - other', 'traffic-accident-hit-and-run', 'Traffic accident - hit and run', 'traffic-accident-dui-duid', 'Traffic accident - DUI-DUID', 'traffic-accident-sbi', 'Traffic accident - SBI', 'traffic-accident-fatal', 'Traffic accident - Fatal', 'traffic-accident-police', 'Traffic accident - Police', 'traf-habitual-offender', 'Habitual traffic offender', 'all-other-crimes', 'All Other Crimes', 'traf-vehicular-homicide', 'Vehicular homicide', 'traf-impound-vehicle', 'Impound abandoned vehicle on right-of-way', 'all-other-crimes', 'All Other Crimes', 'traf-vehicular-assault', 'Vehicular assault', 'all-other-crimes', 'All Other Crimes', 'Traffic offense - other', 'all-other-crimes', 'All Other Crimes', 'vehicular-eluding', 'Vehicular eluding', 'all-other-crimes', 'All Other Crimes', 'vehicular-eluding-no-chase', 'Vehicular eluding - no chase', 'all-other-crimes', 'All Other Crimes', 'health-violations', 'Health &amp; safety violations', 'all-other-crimes', 'All Other Crimes', 'all-other-crimes', 'All Other Crimes', 'criminal-trespassing', 'Criminal trespassing', 'all-other-crimes', 'All Other Crimes', 'all-other-crimes', 'All Other Crimes', 'contraband-possession', 'Possession of contraband', 'all-other-crimes', 'All Other Crimes', 'contraband-into-prison', 'Smuggle contraband to prisoner', 'all-other-crimes', 'All Other Crimes', 'election-law-violation', 'Election laws violation', 'all-other-crimes', 'All Other Crimes', 'money-laundering', 'Money laundering', 'all-other-crimes', 'All Other Crimes', 'Tax revenue violation', 'all-other-crimes', 'All Other Crimes', 'animal-cruelty-to', 'Cruelty to animals', 'all-other-crimes', 'All Other Crimes', 'all-other-crimes', 'All Other Crimes', 'other-conservation-crime', 'Other conversation offense', 'all-other-crimes', 'All Other Crimes', 'all-other-crimes', 'All Other Crimes', 'other-enviornment-animal-viol', 'Other environmental or animal offense', 'all-other-crimes', 'All Other Crimes', 'animal-poss-of-dangerous', 'Possession of a dangerous animal', 'all-other-crimes', 'All Other Crimes', 'money-laundering', 'Money laundering', 'all-other-crimes', 'All Other Crimes', 'crimes-against-person-other', 'Crimes against a person - other', 'all-other-crimes', 'All Other Crimes', 'homicide-conspiracy', 'Conspiracy to commit homicide', 'all-other-crimes', 'All Other Crimes', 'homicide-solicitation', 'Solicitation to commit homicide', 'all-other-crimes', 'All Other Crimes', 'reckless-endangerment', 'Reckless endangerment', 'all-other-crimes', 'All Other Crimes', 'disarming-a-peace-officer', 'Disarming a peace officer', 'all-other-crimes', 'All Other Crimes', 'homicide-accessory-to', 'Accessory to commit homicide', 'all-other-crimes', 'All Other Crimes', 'property-crimes-other', 'Property crimes - other', 'all-other-crimes', 'All Other Crimes', 'property-crimes-other', 'Property crimes - other', 'all-other-crimes', 'All Other Crimes', 'morals-other-moral-off', 'Morals / decency offense - other', 'all-other-crimes', 'All Other Crimes', 'public-order-crimes-other', 'Public order offense - other', 'all-other-crimes', 'All Other Crimes', 'fireworks-possession', 'Possession of fireworks', 'all-other-crimes', 'All Other Crimes', 'public-order-crimes-other', 'Public order offense - other', 'all-other-crimes', 'All Other Crimes', 'accessory-conspiracy-to-crime', 'Accessory / conspiracy to crime', 'all-other-crimes', 'All Other Crimes', 'sovereign-treason-viol', 'all-other-crimes', 'All Other Crimes', 'immigration-violations', 'Immigration violation', 'all-other-crimes', 'All Other Crimes', 'homicide-family', 'Homicide by a family member', 'hom-willful-kill-non-family-gu', 'Homicide by a stranger w/gun', 'hom-willful-kill-nonfam-wp', 'Homicide by a stranger w/weapon', 'homicide-police-by-gun', 'Homicide of a Police Officer w/gun', 'homicide-police-weapon', 'Homicide of a Police Officer w/weapon', 'homicide-negligent', 'Homicide by negligence', 'hom-wilful-kill-gun', 'Homicide by gun', 'Homicide by other means', 'kidnap-minor-to-sex-aslt', 'Kidnap minor to sexually assault', 'all-other-crimes', 'All Other Crimes', 'kidnap-adult-to-sex-aslt', 'Kidnap adult to sexually assault', 'all-other-crimes', 'All Other Crimes', 'kidnap-juvenile-victim', 'all-other-crimes', 'All Other Crimes', 'kidnap-adult-victim', 'all-other-crimes', 'All Other Crimes', 'Domestic violence kidnapping', 'all-other-crimes', 'All Other Crimes', 'kidnap-abduct-no-ransom-aslt', 'Abduction without ransom or assault', 'all-other-crimes', 'All Other Crimes', 'kidnap-hijack-aircraft', 'Hijack an aircraft', 'all-other-crimes', 'All Other Crimes', 'Kidnapping by parent', 'all-other-crimes', 'All Other Crimes', 'kidnap-minor-nonparental', 'Kidnapping of a minor by non-parent', 'all-other-crimes', 'All Other Crimes', 'false-imprisonment', 'False Imprisonment', 'all-other-crimes', 'All Other Crimes', 'Rape, perpetrator had a gun', 'sex-aslt-rape-pot', 'Rape by a person in a position of trust', 'sex-aslt-strong-arm', 'Rape using the threat of violence', 'sex-aslt-non-rape', 'Unlawful sexual contact ', 'sex-aslt-non-rape-pot', 'Unlawful sexual contact', 'sex-asslt-sodomy-boy-strng-arm', 'Sodomy of a male juvenile using bodily force', 'sex-asslt-sodomy-man-strng-arm', 'Sodomy of an adult male using bodily force', 'sex-asslt-sodomy-girl-strg-arm', 'Sodomy of a female juvenile using bodily force', 'sex-asslt-sodomy-woman-str-arm', 'Sodomy of an adult female using bodily force', 'sex-aslt-statutory-rape', 'other-crimes-against-persons', 'Other Crimes Against Persons', 'sex-aslt-statutory-rape-pot', 'Statutory rape by a person in a position of trust', 'other-crimes-against-persons', 'Other Crimes Against Persons', 'sex-aslt-w-object', 'Sexual assault with an object', 'sex-aslt-w-object-pot', 'Sexual assault w/object by a person in a position of trust', 'robbery-business-gun', 'Robbery of a business using a gun', 'robbery-business', 'Robbery of a business using a weapon', 'robbery-busn-strong-arm', 'Robbery of a business using bodily force', 'robbery-street-gun', 'Robbery of a person in the open using a gun', 'Robbery of a person in the open', 'robbery-street-strong-arm', 'Robbery of a person in the open using bodily force', 'robbery-residence-gun', 'Robbery of a person in a residence using a gun', 'robbery-residence', 'Robbery of a person in a residence', 'robbery-resd-strong-arm', 'Robbery of a person in a residence using bodily force', 'robbery-purse-snatch-w-force', 'Forcible Purse Snatching', 'Robbery of a bank', 'robbery-car-jacking', 'Carjacking - armed', 'Robbery - remarks', 'aslt-agg-family-gun', 'Assault causing serious bodily injury by a family member using a gun', 'aggravated-assault', 'Aggravated Assault', 'aslt-agg-family-weapon', 'Assault causing serious bodily injury by a family member using a weapon', 'aggravated-assault', 'Aggravated Assault', 'agg-aslt-strong-arm-dv', 'Assault causing serious bodily injury using bodily force - domestic violence', 'aggravated-assault', 'Aggravated Assault', 'aslt-agg-non-family-gun', 'Assault causing serious bodily injury by a stranger using a gun', 'aggravated-assault', 'Aggravated Assault', 'aslt-agg-non-family-weapon', 'Assault causing serious bodily injury by a stranger using a weapon', 'aggravated-assault', 'Aggravated Assault', 'agg-aslt-strong-arm-nonfam', 'Assault causing serious bodily injury by a stranger using bodily force', 'aggravated-assault', 'Aggravated Assault', 'aslt-agg-police-gun', 'Assault causing serious bodily injury of a police officer using a gun', 'all-other-crimes', 'All Other Crimes', 'agg-aslt-police-weapon', 'Assault causing serious bodily injury of a police officer using a weapon', 'all-other-crimes', 'All Other Crimes', 'agg-aslt-police-ofc-stng-arm', 'Assault causing serious bodily injury of a police officer using bodily force', 'all-other-crimes', 'All Other Crimes', 'Assault causing minor bodily injury', 'other-crimes-against-persons', 'Other Crimes Against Persons', 'Assault causing minor bodily injury', 'other-crimes-against-persons', 'Other Crimes Against Persons', 'Assault causing minor bodily injury - domestic violence', 'other-crimes-against-persons', 'Other Crimes Against Persons', 'assault-police-simple', 'Assault causing minor bodily injury to a police officer', 'other-crimes-against-persons', 'Other Crimes Against Persons', 'agg-aslt-gun-other', 'Assault causing serious bodily injury using a gun', 'aggravated-assault', 'Aggravated Assault', 'weapon-fire-into-occ-veh', 'Weapon fired into an occupied vehicle', 'aggravated-assault', 'Aggravated Assault', 'weapon-fire-into-occ-bldg', 'Weapon fired into an occupied building', 'aggravated-assault', 'Aggravated Assault', 'aggravated-assault', 'Assault causing serious bodily injury', 'aggravated-assault', 'Aggravated Assault', 'aggravated-assault-dv', 'Assault causing serious bodily injury - domestic violence', 'aggravated-assault', 'Aggravated Assault', 'menacing-felony-w-weap', 'Threatening to imminently injure with a weapon', 'aggravated-assault', 'Aggravated Assault', 'weapon-flourishing', 'Flourishing a weapon at another person', 'aggravated-assault', 'Aggravated Assault', 'threats-to-injure', 'Threatening to injure', 'harassment-stalking-dv', 'Harassment by stalking - domestic violence', 'Threatening to injure', 'Arson of a business', 'arson-residence', 'Arson of a residence', 'arson-public-building', 'Arson to a public building', 'Arson of a vehicle', 'extort-threat-inj-person', 'Extort-threaten to injure a person', 'all-other-crimes', 'All Other Crimes', 'Extortion - other', 'all-other-crimes', 'All Other Crimes', 'Burglary of a safe', 'burglary-residence-by-force', 'Burglary of a residence with forced entry', 'burg-auto-theft-resd-w-force', 'Burglary and auto theft at a residence with forced entry', 'burglary-business-by-force', 'Burglary of a business with forced entry', 'burg-auto-theft-busn-w-force', 'Burglary and auto theft at a business with forced entry', 'burglary-residence-no-force', 'Burglary of a residence without forced entry', 'burg-auto-theft-resd-no-force', 'Burglary and auto theft at a residence without forced entry', 'burglary-business-no-force', 'Burglary of a business without forced entry', 'burg-auto-theft-busn-no-force', 'Burglary and auto theft at a business without forced entry', 'burglary-poss-of-tools', 'Possession of burglary tools', 'theft-pick-pocket', 'theft-purse-snatch-no-force', 'Purse snatching without force', 'theft-parts-from-vehicle', 'Theft of parts from a vehicle', 'theft-from-motor-vehicle', 'Theft from Motor Vehicle', 'theft-items-from-vehicle', 'Theft of items from a vehicle', 'theft-from-motor-vehicle', 'Theft from Motor Vehicle', 'burglary-vending-machine', 'Theft from a vending machine', 'Theft from a building', 'theft-from-yards', 'Theft from a yard', 'theft-from-mails', 'Theft from a mailbox', 'larc-from-bank-type-inst', 'Theft from a bank', 'theft-gas-drive-off', 'Theft of fuel by driving off without paying', 'theft-of-cable-services', 'Theft of cable services', 'theft-stln-veh-const-eqpt', 'Theft of construction equipment', 'theft-stln-vehicle-trailer', 'Theft of a trailer', 'theft-vehicle-strip', 'Vehicle stolen and stripped', 'theft-from-motor-vehicle', 'Theft from Motor Vehicle', 'theft-of-motor-vehicle', 'Motor vehicle theft', 'theft-motor-veh-joy-ride', 'Unauthorized use of a vehicle or joy ride', 'Forgery of checks', 'white-collar-crime', 'White Collar Crime', 'forgery-counterfeit-of-obj', 'Counterfeiting an object', 'white-collar-crime', 'White Collar Crime', 'altering-vin-number', 'Altering a vehicle VIN number', 'white-collar-crime', 'White Collar Crime', 'forgery-pass-forged-obj', 'Passing forged documents', 'white-collar-crime', 'White Collar Crime', 'forg-pass-counterfeit-obj', 'Passing counterfeited objects (tickets, bonds, etc)', 'white-collar-crime', 'White Collar Crime', 'forgery-poss-of-forged-inst', 'Possession of a forged instrument', 'white-collar-crime', 'White Collar Crime', 'forgery-poss-of-forged-ftd', 'Possession of a forged financial transaction device (credit &amp; debit cards)', 'white-collar-crime', 'White Collar Crime', 'forg-poss-counterfeit-obj', 'Possession of counterfeited objects (tickets, bonds, etc)', 'white-collar-crime', 'White Collar Crime', 'forgery-posses-forge-device', 'Possession of counterfeiting device', 'white-collar-crime', 'White Collar Crime', 'white-collar-crime', 'White Collar Crime', 'drug-forgery-to-obtain', 'Forgery to obtain drugs', 'white-collar-crime', 'White Collar Crime', 'theft-confidence-game', 'Theft by confidence game', 'white-collar-crime', 'White Collar Crime', 'theft-of-rental-property', 'Theft of rental property', 'white-collar-crime', 'White Collar Crime', 'theft-fail-return-rent-veh', 'Failure to return rental vehicle', 'white-collar-crime', 'White Collar Crime', 'fraud-identity-theft', 'white-collar-crime', 'White Collar Crime', 'fraud-criminal-impersonation', 'Criminal impersonation', 'white-collar-crime', 'White Collar Crime', 'fraud-gather-id-info-deception', 'Gathering personal information by deception', 'white-collar-crime', 'White Collar Crime', 'fraud-possess-id-theft-tools', 'Possession of identity theft tools', 'white-collar-crime', 'White Collar Crime', 'impersonation-of-police', 'Police impersonation', 'white-collar-crime', 'White Collar Crime', 'theft-unauth-use-of-ftd', 'Unauthorized use of a financial transaction device', 'white-collar-crime', 'White Collar Crime', 'fraud-unauthorized-use-of-ftd', 'Unauthorized use of a financial transaction device', 'white-collar-crime', 'White Collar Crime', 'fraud-nsf-closed-account', 'Fraud by check due to insufficient funds', 'white-collar-crime', 'White Collar Crime', 'fraud-by-telephone', 'Fraud by telephone', 'white-collar-crime', 'White Collar Crime', 'white-collar-crime', 'White Collar Crime', 'fraud-by-use-of-computer', 'Fraud by use of computer', 'white-collar-crime', 'White Collar Crime', 'white-collar-crime', 'White Collar Crime', 'failure-to-pay-cab-fare', 'Failure to pay cab, bus or rail fare', 'theft-of-services', 'Theft of services', 'drug-fraud-to-obtain', 'Fraud to obtain drugs', 'pawn-broker-viol', 'Pawn broker violation', 'all-other-crimes', 'All Other Crimes', 'embezzle-bus-property', 'Embezzlement of business property', 'white-collar-crime', 'White Collar Crime', 'Embezzlement by an employee', 'white-collar-crime', 'White Collar Crime', 'stolen-property-sale-of', 'Sale of stolen property', 'all-other-crimes', 'All Other Crimes', 'stolen-property-buy-sell-rec', 'Buy, sell or receive stolen property', 'all-other-crimes', 'All Other Crimes', 'outside-steal-recovered-veh', 'Recovered vehicle stolen outside Denver', 'all-other-crimes', 'All Other Crimes']\n"
     ],
     "output_type": "stream"
    },
    {
     "data": {
      "text/plain": "                       offense_type                          offense_name  \\\n0    stolen-property-possession      Possession of stolen property          \n1    fraud-possess-financial-device  Possession of a financial device       \n2    damaged-prop-bus                Damaged business property              \n3    criminal-mischief-public        Criminal mischief to public property   \n4    criminal-mischief-mtr-veh       Criminal mischief to a motor vehicle   \n..                         ...                                        ...   \n204  all-other-crimes                All Other Crimes                       \n205  white-collar-crime              White Collar Crime                     \n206  White Collar Crime              stolen-property-sale-of                \n207  All Other Crimes                stolen-property-buy-sell-rec           \n208  All Other Crimes                outside-steal-recovered-veh            \n\n                                    cat_type  \\\n0    all-other-crimes                          \n1    all-other-crimes                          \n2    criminal-mischief-private                 \n3    criminal-mischief-other                   \n4    criminal-mischief-graffiti                \n..                          ...                \n204  embezzle-bus-property                     \n205  Embezzlement by an employee               \n206  Sale of stolen property                   \n207  Buy, sell or receive stolen property      \n208  Recovered vehicle stolen outside Denver   \n\n                                  cat_name  \n0    All Other Crimes                       \n1    All Other Crimes                       \n2    Criminal mischief to private property  \n3    Criminal mischief - other              \n4    Criminal mischief - graffiti           \n..                            ...           \n204  Embezzlement of business property      \n205  white-collar-crime                     \n206  all-other-crimes                       \n207  all-other-crimes                       \n208  all-other-crimes                       \n\n[209 rows x 4 columns]",
      "text/html": "<div>\n<style scoped>\n    .dataframe tbody tr th:only-of-type {\n        vertical-align: middle;\n    }\n\n    .dataframe tbody tr th {\n        vertical-align: top;\n    }\n\n    .dataframe thead th {\n        text-align: right;\n    }\n</style>\n<table border=\"1\" class=\"dataframe\">\n  <thead>\n    <tr style=\"text-align: right;\">\n      <th></th>\n      <th>offense_type</th>\n      <th>offense_name</th>\n      <th>cat_type</th>\n      <th>cat_name</th>\n    </tr>\n  </thead>\n  <tbody>\n    <tr>\n      <th>0</th>\n      <td>stolen-property-possession</td>\n      <td>Possession of stolen property</td>\n      <td>all-other-crimes</td>\n      <td>All Other Crimes</td>\n    </tr>\n    <tr>\n      <th>1</th>\n      <td>fraud-possess-financial-device</td>\n      <td>Possession of a financial device</td>\n      <td>all-other-crimes</td>\n      <td>All Other Crimes</td>\n    </tr>\n    <tr>\n      <th>2</th>\n      <td>damaged-prop-bus</td>\n      <td>Damaged business property</td>\n      <td>criminal-mischief-private</td>\n      <td>Criminal mischief to private property</td>\n    </tr>\n    <tr>\n      <th>3</th>\n      <td>criminal-mischief-public</td>\n      <td>Criminal mischief to public property</td>\n      <td>criminal-mischief-other</td>\n      <td>Criminal mischief - other</td>\n    </tr>\n    <tr>\n      <th>4</th>\n      <td>criminal-mischief-mtr-veh</td>\n      <td>Criminal mischief to a motor vehicle</td>\n      <td>criminal-mischief-graffiti</td>\n      <td>Criminal mischief - graffiti</td>\n    </tr>\n    <tr>\n      <th>...</th>\n      <td>...</td>\n      <td>...</td>\n      <td>...</td>\n      <td>...</td>\n    </tr>\n    <tr>\n      <th>204</th>\n      <td>all-other-crimes</td>\n      <td>All Other Crimes</td>\n      <td>embezzle-bus-property</td>\n      <td>Embezzlement of business property</td>\n    </tr>\n    <tr>\n      <th>205</th>\n      <td>white-collar-crime</td>\n      <td>White Collar Crime</td>\n      <td>Embezzlement by an employee</td>\n      <td>white-collar-crime</td>\n    </tr>\n    <tr>\n      <th>206</th>\n      <td>White Collar Crime</td>\n      <td>stolen-property-sale-of</td>\n      <td>Sale of stolen property</td>\n      <td>all-other-crimes</td>\n    </tr>\n    <tr>\n      <th>207</th>\n      <td>All Other Crimes</td>\n      <td>stolen-property-buy-sell-rec</td>\n      <td>Buy, sell or receive stolen property</td>\n      <td>all-other-crimes</td>\n    </tr>\n    <tr>\n      <th>208</th>\n      <td>All Other Crimes</td>\n      <td>outside-steal-recovered-veh</td>\n      <td>Recovered vehicle stolen outside Denver</td>\n      <td>all-other-crimes</td>\n    </tr>\n  </tbody>\n</table>\n<p>209 rows × 4 columns</p>\n</div>"
     },
     "metadata": {},
     "output_type": "execute_result",
     "execution_count": 6
    }
   ],
   "source": [
    "from bs4 import BeautifulSoup\n",
    "\n",
    "soup = BeautifulSoup(open(\"offense_codes.html\"), \"html.parser\")\n",
    "\n",
    "type(soup)\n"
   ],
   "metadata": {
    "collapsed": false,
    "pycharm": {
     "name": "#%%\n",
     "is_executing": false
    }
   }
  },
  {
   "cell_type": "code",
   "execution_count": 13,
   "outputs": [
    {
     "data": {
      "text/plain": "                       offense_type                          offense_name  \\\n0    stolen-property-possession      Possession of stolen property          \n1    fraud-possess-financial-device  Possession of a financial device       \n2    damaged-prop-bus                Damaged business property              \n3    criminal-mischief-public        Criminal mischief to public property   \n4    criminal-mischief-mtr-veh       Criminal mischief to a motor vehicle   \n..                         ...                                        ...   \n204  all-other-crimes                All Other Crimes                       \n205  white-collar-crime              White Collar Crime                     \n206  White Collar Crime              stolen-property-sale-of                \n207  All Other Crimes                stolen-property-buy-sell-rec           \n208  All Other Crimes                outside-steal-recovered-veh            \n\n                                    cat_type  \\\n0    all-other-crimes                          \n1    all-other-crimes                          \n2    criminal-mischief-private                 \n3    criminal-mischief-other                   \n4    criminal-mischief-graffiti                \n..                          ...                \n204  embezzle-bus-property                     \n205  Embezzlement by an employee               \n206  Sale of stolen property                   \n207  Buy, sell or receive stolen property      \n208  Recovered vehicle stolen outside Denver   \n\n                                  cat_name  \n0    All Other Crimes                       \n1    All Other Crimes                       \n2    Criminal mischief to private property  \n3    Criminal mischief - other              \n4    Criminal mischief - graffiti           \n..                            ...           \n204  Embezzlement of business property      \n205  white-collar-crime                     \n206  all-other-crimes                       \n207  all-other-crimes                       \n208  all-other-crimes                       \n\n[209 rows x 4 columns]",
      "text/html": "<div>\n<style scoped>\n    .dataframe tbody tr th:only-of-type {\n        vertical-align: middle;\n    }\n\n    .dataframe tbody tr th {\n        vertical-align: top;\n    }\n\n    .dataframe thead th {\n        text-align: right;\n    }\n</style>\n<table border=\"1\" class=\"dataframe\">\n  <thead>\n    <tr style=\"text-align: right;\">\n      <th></th>\n      <th>offense_type</th>\n      <th>offense_name</th>\n      <th>cat_type</th>\n      <th>cat_name</th>\n    </tr>\n  </thead>\n  <tbody>\n    <tr>\n      <th>0</th>\n      <td>stolen-property-possession</td>\n      <td>Possession of stolen property</td>\n      <td>all-other-crimes</td>\n      <td>All Other Crimes</td>\n    </tr>\n    <tr>\n      <th>1</th>\n      <td>fraud-possess-financial-device</td>\n      <td>Possession of a financial device</td>\n      <td>all-other-crimes</td>\n      <td>All Other Crimes</td>\n    </tr>\n    <tr>\n      <th>2</th>\n      <td>damaged-prop-bus</td>\n      <td>Damaged business property</td>\n      <td>criminal-mischief-private</td>\n      <td>Criminal mischief to private property</td>\n    </tr>\n    <tr>\n      <th>3</th>\n      <td>criminal-mischief-public</td>\n      <td>Criminal mischief to public property</td>\n      <td>criminal-mischief-other</td>\n      <td>Criminal mischief - other</td>\n    </tr>\n    <tr>\n      <th>4</th>\n      <td>criminal-mischief-mtr-veh</td>\n      <td>Criminal mischief to a motor vehicle</td>\n      <td>criminal-mischief-graffiti</td>\n      <td>Criminal mischief - graffiti</td>\n    </tr>\n    <tr>\n      <th>...</th>\n      <td>...</td>\n      <td>...</td>\n      <td>...</td>\n      <td>...</td>\n    </tr>\n    <tr>\n      <th>204</th>\n      <td>all-other-crimes</td>\n      <td>All Other Crimes</td>\n      <td>embezzle-bus-property</td>\n      <td>Embezzlement of business property</td>\n    </tr>\n    <tr>\n      <th>205</th>\n      <td>white-collar-crime</td>\n      <td>White Collar Crime</td>\n      <td>Embezzlement by an employee</td>\n      <td>white-collar-crime</td>\n    </tr>\n    <tr>\n      <th>206</th>\n      <td>White Collar Crime</td>\n      <td>stolen-property-sale-of</td>\n      <td>Sale of stolen property</td>\n      <td>all-other-crimes</td>\n    </tr>\n    <tr>\n      <th>207</th>\n      <td>All Other Crimes</td>\n      <td>stolen-property-buy-sell-rec</td>\n      <td>Buy, sell or receive stolen property</td>\n      <td>all-other-crimes</td>\n    </tr>\n    <tr>\n      <th>208</th>\n      <td>All Other Crimes</td>\n      <td>outside-steal-recovered-veh</td>\n      <td>Recovered vehicle stolen outside Denver</td>\n      <td>all-other-crimes</td>\n    </tr>\n  </tbody>\n</table>\n<p>209 rows × 4 columns</p>\n</div>"
     },
     "metadata": {},
     "output_type": "execute_result",
     "execution_count": 13
    }
   ],
   "source": [
    "\n",
    "table = soup.find_all('table')[0] # Grab the first table\n",
    "offense=[]\n",
    "offense_type=[]\n",
    "offense_name=[]\n",
    "cat_type=[]\n",
    "cat_name=[]\n",
    "table_rows = table.find_all('tr')\n",
    "\n",
    "for tr in table_rows:\n",
    "    td = tr.find_all('td')\n",
    "   # print(td)\n",
    "    \n",
    "    #index =1\n",
    "    for j in td:\n",
    "        divx= j.find_all('div')\n",
    "        \n",
    "        divy=str(divx)\n",
    "        divz=divy.split(';\">')\n",
    "        \n",
    "        if len(divz)>1:\n",
    "            divz[1] = divz[1][:-7]\n",
    "            #print(divz[1])\n",
    "            offense.append(divz[1])\n",
    "            \n",
    "            \n",
    "            \n",
    "            \n",
    "            \n",
    "            \n",
    "            \n",
    "        #print(j)\n",
    "    #    type1 = j.find(class_='s1').getText()[0]\n",
    "   #     offense_type.append(type)\n",
    "    #    name = j.find(class_='softmerge-inner').getText()[2]\n",
    "   #     offense_name.append(name)\n",
    "    \n",
    "#print(\"HIHI\")\n",
    "#print(offense)\n",
    "i=0\n",
    "len1=len(offense)-3\n",
    "while i<=len1:\n",
    "    offense_type.append(offense[i])\n",
    "\n",
    "    offense_name.append(offense[i+1])\n",
    "\n",
    "    cat_type.append(offense[i+2])\n",
    "\n",
    "    cat_name.append(offense[i+3])\n",
    "    i+=4\n",
    "    \n",
    "#Creating dataframe and storing the scrapped data\n",
    "      \n",
    "pd.set_option('display.max_colwidth', -1)\n",
    "new_df = pd.DataFrame({\"offense_type\":offense_type,\"offense_name\":offense_name,\"cat_type\":cat_type,\"cat_name\":cat_name})\n",
    "\n",
    "new_df"
   ],
   "metadata": {
    "collapsed": false,
    "pycharm": {
     "name": "#%%\n",
     "is_executing": false
    }
   }
  },
  {
   "cell_type": "code",
   "execution_count": 7,
   "outputs": [
    {
     "data": {
      "text/plain": "    off_code  offcode_ext                    offense_type  \\\n0   2804      1            stolen-property-possession       \n1   2804      2            fraud-possess-financial-device   \n2   2901      0            damaged-prop-bus                 \n3   2902      0            criminal-mischief-public         \n4   2903      0            criminal-mischief-mtr-veh        \n..   ...     ..                                  ...        \n95  5213      1            All Other Crimes                 \n96  5214      0            Other conversation offense       \n97  5215      0            All Other Crimes                 \n98  5299      0            All Other Crimes                 \n99  5302      0            All Other Crimes                 \n\n                            offense_name  \\\n0   Possession of stolen property          \n1   Possession of a financial device       \n2   Damaged business property              \n3   Criminal mischief to public property   \n4   Criminal mischief to a motor vehicle   \n..                                   ...   \n95  all-other-crimes                       \n96  all-other-crimes                       \n97  other-enviornment-animal-viol          \n98  animal-poss-of-dangerous               \n99  money-laundering                       \n\n                                 cat_type  \\\n0   all-other-crimes                        \n1   all-other-crimes                        \n2   criminal-mischief-private               \n3   criminal-mischief-other                 \n4   criminal-mischief-graffiti              \n..                         ...              \n95  All Other Crimes                        \n96  All Other Crimes                        \n97  Other environmental or animal offense   \n98  Possession of a dangerous animal        \n99  Money laundering                        \n\n                                 cat_name  IS_CRIME  IS_TRAFFIC  \n0   All Other Crimes                       1         0           \n1   All Other Crimes                       1         0           \n2   Criminal mischief to private property  1         0           \n3   Criminal mischief - other              1         0           \n4   Criminal mischief - graffiti           1         0           \n..                           ...          ..        ..           \n95  other-conservation-crime               1         0           \n96  all-other-crimes                       1         0           \n97  all-other-crimes                       1         0           \n98  all-other-crimes                       1         0           \n99  all-other-crimes                       1         0           \n\n[100 rows x 8 columns]",
      "text/html": "<div>\n<style scoped>\n    .dataframe tbody tr th:only-of-type {\n        vertical-align: middle;\n    }\n\n    .dataframe tbody tr th {\n        vertical-align: top;\n    }\n\n    .dataframe thead th {\n        text-align: right;\n    }\n</style>\n<table border=\"1\" class=\"dataframe\">\n  <thead>\n    <tr style=\"text-align: right;\">\n      <th></th>\n      <th>off_code</th>\n      <th>offcode_ext</th>\n      <th>offense_type</th>\n      <th>offense_name</th>\n      <th>cat_type</th>\n      <th>cat_name</th>\n      <th>IS_CRIME</th>\n      <th>IS_TRAFFIC</th>\n    </tr>\n  </thead>\n  <tbody>\n    <tr>\n      <th>0</th>\n      <td>2804</td>\n      <td>1</td>\n      <td>stolen-property-possession</td>\n      <td>Possession of stolen property</td>\n      <td>all-other-crimes</td>\n      <td>All Other Crimes</td>\n      <td>1</td>\n      <td>0</td>\n    </tr>\n    <tr>\n      <th>1</th>\n      <td>2804</td>\n      <td>2</td>\n      <td>fraud-possess-financial-device</td>\n      <td>Possession of a financial device</td>\n      <td>all-other-crimes</td>\n      <td>All Other Crimes</td>\n      <td>1</td>\n      <td>0</td>\n    </tr>\n    <tr>\n      <th>2</th>\n      <td>2901</td>\n      <td>0</td>\n      <td>damaged-prop-bus</td>\n      <td>Damaged business property</td>\n      <td>criminal-mischief-private</td>\n      <td>Criminal mischief to private property</td>\n      <td>1</td>\n      <td>0</td>\n    </tr>\n    <tr>\n      <th>3</th>\n      <td>2902</td>\n      <td>0</td>\n      <td>criminal-mischief-public</td>\n      <td>Criminal mischief to public property</td>\n      <td>criminal-mischief-other</td>\n      <td>Criminal mischief - other</td>\n      <td>1</td>\n      <td>0</td>\n    </tr>\n    <tr>\n      <th>4</th>\n      <td>2903</td>\n      <td>0</td>\n      <td>criminal-mischief-mtr-veh</td>\n      <td>Criminal mischief to a motor vehicle</td>\n      <td>criminal-mischief-graffiti</td>\n      <td>Criminal mischief - graffiti</td>\n      <td>1</td>\n      <td>0</td>\n    </tr>\n    <tr>\n      <th>...</th>\n      <td>...</td>\n      <td>...</td>\n      <td>...</td>\n      <td>...</td>\n      <td>...</td>\n      <td>...</td>\n      <td>...</td>\n      <td>...</td>\n    </tr>\n    <tr>\n      <th>95</th>\n      <td>5213</td>\n      <td>1</td>\n      <td>All Other Crimes</td>\n      <td>all-other-crimes</td>\n      <td>All Other Crimes</td>\n      <td>other-conservation-crime</td>\n      <td>1</td>\n      <td>0</td>\n    </tr>\n    <tr>\n      <th>96</th>\n      <td>5214</td>\n      <td>0</td>\n      <td>Other conversation offense</td>\n      <td>all-other-crimes</td>\n      <td>All Other Crimes</td>\n      <td>all-other-crimes</td>\n      <td>1</td>\n      <td>0</td>\n    </tr>\n    <tr>\n      <th>97</th>\n      <td>5215</td>\n      <td>0</td>\n      <td>All Other Crimes</td>\n      <td>other-enviornment-animal-viol</td>\n      <td>Other environmental or animal offense</td>\n      <td>all-other-crimes</td>\n      <td>1</td>\n      <td>0</td>\n    </tr>\n    <tr>\n      <th>98</th>\n      <td>5299</td>\n      <td>0</td>\n      <td>All Other Crimes</td>\n      <td>animal-poss-of-dangerous</td>\n      <td>Possession of a dangerous animal</td>\n      <td>all-other-crimes</td>\n      <td>1</td>\n      <td>0</td>\n    </tr>\n    <tr>\n      <th>99</th>\n      <td>5302</td>\n      <td>0</td>\n      <td>All Other Crimes</td>\n      <td>money-laundering</td>\n      <td>Money laundering</td>\n      <td>all-other-crimes</td>\n      <td>1</td>\n      <td>0</td>\n    </tr>\n  </tbody>\n</table>\n<p>100 rows × 8 columns</p>\n</div>"
     },
     "metadata": {},
     "output_type": "execute_result",
     "execution_count": 7
    }
   ],
   "source": [
    "#AUDITING THE RESULTS\n",
    "\n",
    "new_df.isnull().sum()"
   ],
   "metadata": {
    "collapsed": false,
    "pycharm": {
     "name": "#%%\n",
     "is_executing": false
    }
   }
  },
  {
   "cell_type": "code",
   "execution_count": null,
   "outputs": [],
   "source": [
    "\n",
    "# COMBINING THE THREE SOURCES OF DATA INTO ONE SINGLE DATAFRAME."
   ],
   "metadata": {
    "collapsed": false,
    "pycharm": {
     "name": "#%%\n"
    }
   }
  },
  {
   "cell_type": "code",
   "execution_count": null,
   "outputs": [],
   "source": [
    "\n",
    "horizontal_stack = pd.concat([ newds.head(100),new_df.head(100),extracted.head(100)], axis=1)\n",
    "\n",
    "horizontal_stack\n",
    "\n",
    "\n"
   ],
   "metadata": {
    "collapsed": false,
    "pycharm": {
     "name": "#%%\n"
    }
   }
  }
 ],
 "metadata": {
  "kernelspec": {
   "display_name": "Python 3",
   "language": "python",
   "name": "python3"
  },
  "language_info": {
   "codemirror_mode": {
    "name": "ipython",
    "version": 2
   },
   "file_extension": ".py",
   "mimetype": "text/x-python",
   "name": "python",
   "nbconvert_exporter": "python",
   "pygments_lexer": "ipython2",
   "version": "2.7.6"
  },
  "pycharm": {
   "stem_cell": {
    "cell_type": "raw",
    "source": [],
    "metadata": {
     "collapsed": false
    }
   }
  }
 },
 "nbformat": 4,
 "nbformat_minor": 0
}